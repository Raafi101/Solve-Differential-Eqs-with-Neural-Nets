{
 "cells": [
  {
   "cell_type": "markdown",
   "id": "7a165afc",
   "metadata": {},
   "source": [
    "# Approximation Solutions to ODEs\n",
    "\n",
    "### Notes"
   ]
  },
  {
   "cell_type": "markdown",
   "id": "9fc56b32",
   "metadata": {},
   "source": [
    "$$\\frac{dy}{dx} = f(y,x), x \\in [0, 1]$$\n",
    "\n",
    "$$y(0) = y_0$$\n",
    "\n",
    "By universal approximization theorem, all neural networks approximate some function. We will find a model, $NN(x)$ that approximates our solution, $y(x)$ in this case. Meaning $NN(x) \\approx y(x)$. Also we can then conclude that $\\frac{dNN}{dx} \\approx \\frac{dy}{dx}$ where $\\frac{dy}{dx} = f(y,x)$. Thus $\\frac{dNN}{dx} \\approx f(y,x)$. From here we can create the following loss function\n",
    "\n",
    "$$L = \\sqrt{\\sum_{i}(\\frac{dNN(x_i)}{dx} - f(y, x_i))^2}$$\n",
    "\n",
    "In order to account for the initial condition we can add a term to the loss function\n",
    "\n",
    "$$L = \\sqrt{(NN(0) - y(0))^2} + \\sqrt{\\sum_{i}(\\frac{dNN(x_i)}{dx} - f(y, x_i))^2}$$\n",
    "\n",
    "In order to simplify the loss function we can define $g(x) = y_0 + xNN(x)$ and then implement it into the loss function as such\n",
    "\n",
    "$$L = \\sqrt{\\sum_{i}(\\frac{dg(x_i)}{dx} - f(y(x_i), x_i))^2}$$"
   ]
  },
  {
   "cell_type": "markdown",
   "id": "62cbfdbd",
   "metadata": {},
   "source": [
    "### Imports"
   ]
  },
  {
   "cell_type": "code",
   "execution_count": 1,
   "id": "2722c31f",
   "metadata": {},
   "outputs": [],
   "source": [
    "import numpy as np\n",
    "import matplotlib.pyplot as plt\n",
    "plt.style.use('ggplot')"
   ]
  },
  {
   "cell_type": "code",
   "execution_count": 2,
   "id": "49903151",
   "metadata": {},
   "outputs": [
    {
     "name": "stdout",
     "output_type": "stream",
     "text": [
      "2.6.0\n"
     ]
    },
    {
     "data": {
      "text/plain": [
       "[PhysicalDevice(name='/physical_device:GPU:0', device_type='GPU')]"
      ]
     },
     "execution_count": 2,
     "metadata": {},
     "output_type": "execute_result"
    }
   ],
   "source": [
    "import tensorflow as tf\n",
    "print(tf.__version__)\n",
    "tf.config.list_physical_devices('GPU')"
   ]
  },
  {
   "cell_type": "code",
   "execution_count": 3,
   "id": "54ca9d05",
   "metadata": {},
   "outputs": [
    {
     "name": "stdout",
     "output_type": "stream",
     "text": [
      "[name: \"/device:CPU:0\"\n",
      "device_type: \"CPU\"\n",
      "memory_limit: 268435456\n",
      "locality {\n",
      "}\n",
      "incarnation: 11098781892919742993\n",
      ", name: \"/device:GPU:0\"\n",
      "device_type: \"GPU\"\n",
      "memory_limit: 22712156160\n",
      "locality {\n",
      "  bus_id: 1\n",
      "  links {\n",
      "  }\n",
      "}\n",
      "incarnation: 10445515381281316138\n",
      "physical_device_desc: \"device: 0, name: NVIDIA GeForce RTX 3090, pci bus id: 0000:01:00.0, compute capability: 8.6\"\n",
      "]\n"
     ]
    }
   ],
   "source": [
    "from tensorflow.python.client import device_lib\n",
    "print(device_lib.list_local_devices())"
   ]
  },
  {
   "cell_type": "markdown",
   "id": "55f3a2f9",
   "metadata": {},
   "source": [
    "### The given ODE"
   ]
  },
  {
   "cell_type": "code",
   "execution_count": 4,
   "id": "9624f78e",
   "metadata": {},
   "outputs": [],
   "source": [
    "# Given ODE\n",
    "def dyd(x):\n",
    "    return 3 * x**2\n",
    "\n",
    "# Initial Value\n",
    "y_0 = 0"
   ]
  },
  {
   "cell_type": "markdown",
   "id": "11abace5",
   "metadata": {},
   "source": [
    "### Hyper Parameters"
   ]
  },
  {
   "cell_type": "code",
   "execution_count": 5,
   "id": "90ec2215",
   "metadata": {},
   "outputs": [],
   "source": [
    "Δx = np.sqrt(np.finfo(np.float32).eps)\n",
    "\n",
    "learning_rate = 0.001\n",
    "training_steps = 5000\n",
    "batch_size = 16\n",
    "display_step = 100"
   ]
  },
  {
   "cell_type": "code",
   "execution_count": 6,
   "id": "62cd8fd5",
   "metadata": {},
   "outputs": [],
   "source": [
    "# Network Architecture\n",
    "n_input = 1     # input layer number of neurons\n",
    "n_hidden_1 = 32 # 1st layer number of neurons\n",
    "n_hidden_2 = 64 # 2nd layer number of neurons\n",
    "n_hidden_3 = 32 # 3rd layer number of neurons\n",
    "n_output = 1    # output layer number of neurons\n",
    "\n",
    "# Network Weights\n",
    "weights = {\n",
    "'h1': tf.Variable(tf.random.normal([n_input, n_hidden_1])),\n",
    "'h2': tf.Variable(tf.random.normal([n_hidden_1, n_hidden_2])),\n",
    "'h3': tf.Variable(tf.random.normal([n_hidden_2, n_hidden_3])),\n",
    "'out': tf.Variable(tf.random.normal([n_hidden_3, n_output]))\n",
    "}\n",
    "\n",
    "# Network Biases\n",
    "biases = {\n",
    "'b1': tf.Variable(tf.random.normal([n_hidden_1])),\n",
    "'b2': tf.Variable(tf.random.normal([n_hidden_2])),\n",
    "'b3': tf.Variable(tf.random.normal([n_hidden_3])),\n",
    "'out': tf.Variable(tf.random.normal([n_output]))\n",
    "}\n",
    "\n",
    "# Stochastic gradient descent optimizer.\n",
    "optimizer = tf.optimizers.Adam(learning_rate)"
   ]
  },
  {
   "cell_type": "markdown",
   "id": "b8100c52",
   "metadata": {},
   "source": [
    "### Neural Network"
   ]
  },
  {
   "cell_type": "code",
   "execution_count": 7,
   "id": "d0627804",
   "metadata": {},
   "outputs": [],
   "source": [
    "def NN(x):\n",
    "    x = np.array([[[x]]],  dtype='float32')\n",
    "    layer_1 = tf.add(tf.matmul(x, weights['h1']), biases['b1'])\n",
    "    layer_1 = tf.nn.sigmoid(layer_1)\n",
    "    layer_2 = tf.add(tf.matmul(layer_1, weights['h2']), biases['b2'])\n",
    "    layer_2 = tf.nn.sigmoid(layer_2)\n",
    "    layer_3 = tf.add(tf.matmul(layer_2, weights['h3']), biases['b3'])\n",
    "    layer_3 = tf.nn.sigmoid(layer_3)\n",
    "    output = tf.matmul(layer_3, weights['out']) + biases['out']\n",
    "    return output"
   ]
  },
  {
   "cell_type": "markdown",
   "id": "9e12392d",
   "metadata": {},
   "source": [
    "### Loss Function"
   ]
  },
  {
   "cell_type": "code",
   "execution_count": 8,
   "id": "b4afc281",
   "metadata": {},
   "outputs": [],
   "source": [
    "def g(x):\n",
    "    return x * NN(x) + y_0\n",
    "\n",
    "# Custom loss function to approximate the derivatives\n",
    "def custom_loss():\n",
    "    summation = []\n",
    "    for x in np.linspace(-1, 1, 10):\n",
    "        dNN = (g(x + Δx) - g(x)) / Δx\n",
    "        summation.append((dNN - dyd(x))**2)\n",
    "    return tf.sqrt(tf.reduce_mean(tf.abs(summation)))"
   ]
  },
  {
   "cell_type": "markdown",
   "id": "859bbabc",
   "metadata": {},
   "source": [
    "### Training"
   ]
  },
  {
   "cell_type": "code",
   "execution_count": 9,
   "id": "7729f4e9",
   "metadata": {},
   "outputs": [
    {
     "name": "stdout",
     "output_type": "stream",
     "text": [
      "Epoch 0/5000: loss = 2.571031 \n",
      "Epoch 100/5000: loss = 0.794497 \n",
      "Epoch 200/5000: loss = 0.905791 \n",
      "Epoch 300/5000: loss = 0.866117 \n",
      "Epoch 400/5000: loss = 0.668976 \n",
      "Epoch 500/5000: loss = 0.907593 \n",
      "Epoch 600/5000: loss = 0.733410 \n",
      "Epoch 700/5000: loss = 0.747197 \n",
      "Epoch 800/5000: loss = 0.880896 \n",
      "Epoch 900/5000: loss = 0.623561 \n",
      "Epoch 1000/5000: loss = 0.847709 \n",
      "Epoch 1100/5000: loss = 0.748894 \n",
      "Epoch 1200/5000: loss = 0.691362 \n",
      "Epoch 1300/5000: loss = 0.714901 \n",
      "Epoch 1400/5000: loss = 0.887663 \n",
      "Epoch 1500/5000: loss = 0.770046 \n",
      "Epoch 1600/5000: loss = 0.690041 \n",
      "Epoch 1700/5000: loss = 0.710011 \n",
      "Epoch 1800/5000: loss = 0.548647 \n",
      "Epoch 1900/5000: loss = 0.549430 \n",
      "Epoch 2000/5000: loss = 0.604634 \n",
      "Epoch 2100/5000: loss = 0.545900 \n",
      "Epoch 2200/5000: loss = 0.516072 \n",
      "Epoch 2300/5000: loss = 0.541962 \n",
      "Epoch 2400/5000: loss = 0.483597 \n",
      "Epoch 2500/5000: loss = 0.543105 \n",
      "Epoch 2600/5000: loss = 0.576033 \n",
      "Epoch 2700/5000: loss = 0.440961 \n",
      "Epoch 2800/5000: loss = 0.418223 \n",
      "Epoch 2900/5000: loss = 0.419774 \n",
      "Epoch 3000/5000: loss = 0.668736 \n",
      "Epoch 3100/5000: loss = 0.461638 \n",
      "Epoch 3200/5000: loss = 0.385557 \n",
      "Epoch 3300/5000: loss = 0.386042 \n",
      "Epoch 3400/5000: loss = 0.421608 \n",
      "Epoch 3500/5000: loss = 0.518517 \n",
      "Epoch 3600/5000: loss = 0.417748 \n",
      "Epoch 3700/5000: loss = 0.376695 \n",
      "Epoch 3800/5000: loss = 0.335425 \n",
      "Epoch 3900/5000: loss = 0.317646 \n",
      "Epoch 4000/5000: loss = 0.392775 \n",
      "Epoch 4100/5000: loss = 0.362721 \n",
      "Epoch 4200/5000: loss = 0.320807 \n",
      "Epoch 4300/5000: loss = 0.458294 \n",
      "Epoch 4400/5000: loss = 0.230513 \n",
      "Epoch 4500/5000: loss = 0.490669 \n",
      "Epoch 4600/5000: loss = 0.244127 \n",
      "Epoch 4700/5000: loss = 0.222404 \n",
      "Epoch 4800/5000: loss = 0.270965 \n",
      "Epoch 4900/5000: loss = 0.408954 \n"
     ]
    }
   ],
   "source": [
    "def train_step():\n",
    "    with tf.GradientTape() as tape:\n",
    "        loss = custom_loss()\n",
    "    trainable_variables = list(weights.values()) + list(biases.values())\n",
    "    gradients = tape.gradient(loss, trainable_variables)\n",
    "    optimizer.apply_gradients(zip(gradients, trainable_variables))\n",
    "\n",
    "# Training the Model:\n",
    "for i in range(training_steps):\n",
    "    train_step()\n",
    "    if i % display_step == 0:\n",
    "        print(f\"Epoch {i}/{training_steps}: loss = %f \" % (custom_loss()))"
   ]
  },
  {
   "cell_type": "markdown",
   "id": "4b2a1654",
   "metadata": {},
   "source": [
    "### Plot Solution"
   ]
  },
  {
   "cell_type": "code",
   "execution_count": 10,
   "id": "a537731a",
   "metadata": {},
   "outputs": [
    {
     "data": {
      "image/png": "[encoded data removed]",
      "text/plain": [
       "<Figure size 640x480 with 1 Axes>"
      ]
     },
     "metadata": {},
     "output_type": "display_data"
    }
   ],
   "source": [
    "# True Solution (found analytically)\n",
    "def true_solution(x):\n",
    "    return x**3\n",
    "\n",
    "X = np.linspace(-1, 1, 100)\n",
    "result = []\n",
    "for i in X:\n",
    "    result.append(g(i).numpy()[0][0][0])\n",
    "S = true_solution(X)\n",
    "\n",
    "plt.plot(X, S, color = \"red\", label = \"True Solution\") # True solution\n",
    "plt.plot(X, result, color = \"blue\", label = \"Prediction\") # Predicition\n",
    "plt.legend(frameon=False, loc='lower center', ncol=2)\n",
    "plt.show()"
   ]
  }
 ],
 "metadata": {
  "kernelspec": {
   "display_name": "Python 3 (ipykernel)",
   "language": "python",
   "name": "python3"
  },
  "language_info": {
   "codemirror_mode": {
    "name": "ipython",
    "version": 3
   },
   "file_extension": ".py",
   "mimetype": "text/x-python",
   "name": "python",
   "nbconvert_exporter": "python",
   "pygments_lexer": "ipython3",
   "version": "3.9.15"
  }
 },
 "nbformat": 4,
 "nbformat_minor": 5
}
