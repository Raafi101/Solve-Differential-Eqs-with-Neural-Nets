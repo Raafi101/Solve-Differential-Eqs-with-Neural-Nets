{
 "cells": [
  {
   "cell_type": "code",
   "execution_count": 1,
   "id": "2c391663",
   "metadata": {},
   "outputs": [
    {
     "name": "stdout",
     "output_type": "stream",
     "text": [
      "2.6.0\n"
     ]
    },
    {
     "data": {
      "text/plain": [
       "[PhysicalDevice(name='/physical_device:GPU:0', device_type='GPU')]"
      ]
     },
     "execution_count": 1,
     "metadata": {},
     "output_type": "execute_result"
    }
   ],
   "source": [
    "import tensorflow as tf\n",
    "print(tf.__version__)\n",
    "tf.config.list_physical_devices('GPU')"
   ]
  },
  {
   "cell_type": "code",
   "execution_count": 2,
   "id": "8911b3af",
   "metadata": {},
   "outputs": [
    {
     "name": "stdout",
     "output_type": "stream",
     "text": [
      "[name: \"/device:CPU:0\"\n",
      "device_type: \"CPU\"\n",
      "memory_limit: 268435456\n",
      "locality {\n",
      "}\n",
      "incarnation: 1226515506394854661\n",
      ", name: \"/device:GPU:0\"\n",
      "device_type: \"GPU\"\n",
      "memory_limit: 22712156160\n",
      "locality {\n",
      "  bus_id: 1\n",
      "  links {\n",
      "  }\n",
      "}\n",
      "incarnation: 1615938724774066311\n",
      "physical_device_desc: \"device: 0, name: NVIDIA GeForce RTX 3090, pci bus id: 0000:01:00.0, compute capability: 8.6\"\n",
      "]\n"
     ]
    }
   ],
   "source": [
    "from tensorflow.python.client import device_lib\n",
    "print(device_lib.list_local_devices())"
   ]
  },
  {
   "cell_type": "code",
   "execution_count": 3,
   "id": "0d2f0f0a",
   "metadata": {},
   "outputs": [],
   "source": [
    "import numpy as np\n",
    "import matplotlib.pyplot as plt\n",
    "from sklearn.model_selection import train_test_split"
   ]
  },
  {
   "cell_type": "markdown",
   "id": "063fb2ae",
   "metadata": {},
   "source": [
    "## Data\n",
    "\n",
    "$ y = x^3 + 50,000 $"
   ]
  },
  {
   "cell_type": "code",
   "execution_count": 4,
   "id": "fff3bcde",
   "metadata": {},
   "outputs": [],
   "source": [
    "X = []\n",
    "Y = []\n",
    "\n",
    "for i in range(50):\n",
    "    X.append(i)\n",
    "    Y.append(i**3 + 50000)\n",
    "    \n",
    "    X.append(-i)\n",
    "    Y.append(-i**3 + 50000)\n",
    "    \n",
    "    X.append(i + 0.5)\n",
    "    Y.append((i + 0.5)**3 + 50000)\n",
    "    \n",
    "    X.append(-i - 0.5)\n",
    "    Y.append((-i - 0.5)**3 + 50000)"
   ]
  },
  {
   "cell_type": "code",
   "execution_count": 5,
   "id": "a7a2e9d1",
   "metadata": {},
   "outputs": [],
   "source": [
    "X_train, X_test, y_train, y_test = train_test_split(X, Y, test_size=0.3)"
   ]
  },
  {
   "cell_type": "markdown",
   "id": "62bcc38b",
   "metadata": {},
   "source": [
    "## Model"
   ]
  },
  {
   "cell_type": "code",
   "execution_count": 6,
   "id": "dc09a25d",
   "metadata": {},
   "outputs": [],
   "source": [
    "model = tf.keras.models.Sequential([\n",
    "    tf.keras.layers.Dense(1),\n",
    "    tf.keras.layers.Dense(10, activation=tf.keras.layers.LeakyReLU(alpha=0.01)),\n",
    "    tf.keras.layers.Dense(10, activation=tf.keras.layers.LeakyReLU(alpha=0.01)),\n",
    "    tf.keras.layers.Dense(10, activation=tf.keras.layers.LeakyReLU(alpha=0.01)),\n",
    "    tf.keras.layers.Dense(1)\n",
    "])\n",
    "\n",
    "model.compile(loss=\"mean_absolute_error\",\n",
    "              optimizer=\"Adam\",\n",
    "              metrics=[\"mean_absolute_error\"])"
   ]
  },
  {
   "cell_type": "code",
   "execution_count": 7,
   "id": "45475648",
   "metadata": {},
   "outputs": [
    {
     "name": "stdout",
     "output_type": "stream",
     "text": [
      "Epoch 1/100\n",
      "14/14 [==============================] - 1s 2ms/step - loss: 58923.7070 - mean_absolute_error: 58923.7070\n",
      "Epoch 2/100\n",
      "14/14 [==============================] - 0s 2ms/step - loss: 58923.1289 - mean_absolute_error: 58923.1289\n",
      "Epoch 3/100\n",
      "14/14 [==============================] - 0s 3ms/step - loss: 58922.4766 - mean_absolute_error: 58922.4766\n",
      "Epoch 4/100\n",
      "14/14 [==============================] - 0s 1ms/step - loss: 58921.6406 - mean_absolute_error: 58921.6406\n",
      "Epoch 5/100\n",
      "14/14 [==============================] - 0s 1ms/step - loss: 58920.6016 - mean_absolute_error: 58920.6016\n",
      "Epoch 6/100\n",
      "14/14 [==============================] - 0s 2ms/step - loss: 58919.2422 - mean_absolute_error: 58919.2422\n",
      "Epoch 7/100\n",
      "14/14 [==============================] - 0s 2ms/step - loss: 58917.5586 - mean_absolute_error: 58917.5547\n",
      "Epoch 8/100\n",
      "14/14 [==============================] - 0s 2ms/step - loss: 58915.0977 - mean_absolute_error: 58915.0977\n",
      "Epoch 9/100\n",
      "14/14 [==============================] - 0s 2ms/step - loss: 58911.7539 - mean_absolute_error: 58911.7539\n",
      "Epoch 10/100\n",
      "14/14 [==============================] - 0s 2ms/step - loss: 58907.0625 - mean_absolute_error: 58907.0625\n",
      "Epoch 11/100\n",
      "14/14 [==============================] - 0s 1ms/step - loss: 58900.4375 - mean_absolute_error: 58900.4375\n",
      "Epoch 12/100\n",
      "14/14 [==============================] - 0s 2ms/step - loss: 58891.0508 - mean_absolute_error: 58891.0508\n",
      "Epoch 13/100\n",
      "14/14 [==============================] - 0s 2ms/step - loss: 58879.1250 - mean_absolute_error: 58879.1250\n",
      "Epoch 14/100\n",
      "14/14 [==============================] - 0s 2ms/step - loss: 58862.3438 - mean_absolute_error: 58862.3438\n",
      "Epoch 15/100\n",
      "14/14 [==============================] - 0s 2ms/step - loss: 58840.0742 - mean_absolute_error: 58840.0742\n",
      "Epoch 16/100\n",
      "14/14 [==============================] - 0s 1ms/step - loss: 58809.6875 - mean_absolute_error: 58809.6914\n",
      "Epoch 17/100\n",
      "14/14 [==============================] - 0s 2ms/step - loss: 58770.1992 - mean_absolute_error: 58770.1992\n",
      "Epoch 18/100\n",
      "14/14 [==============================] - 0s 2ms/step - loss: 58720.5938 - mean_absolute_error: 58720.5938\n",
      "Epoch 19/100\n",
      "14/14 [==============================] - 0s 2ms/step - loss: 58658.1367 - mean_absolute_error: 58658.1367\n",
      "Epoch 20/100\n",
      "14/14 [==============================] - 0s 2ms/step - loss: 58584.0430 - mean_absolute_error: 58584.0430\n",
      "Epoch 21/100\n",
      "14/14 [==============================] - 0s 2ms/step - loss: 58483.7305 - mean_absolute_error: 58483.7305\n",
      "Epoch 22/100\n",
      "14/14 [==============================] - 0s 2ms/step - loss: 58364.8828 - mean_absolute_error: 58364.8828\n",
      "Epoch 23/100\n",
      "14/14 [==============================] - 0s 2ms/step - loss: 58231.3203 - mean_absolute_error: 58231.3203\n",
      "Epoch 24/100\n",
      "14/14 [==============================] - 0s 2ms/step - loss: 58057.1875 - mean_absolute_error: 58057.1875\n",
      "Epoch 25/100\n",
      "14/14 [==============================] - 0s 2ms/step - loss: 57860.7305 - mean_absolute_error: 57860.7266\n",
      "Epoch 26/100\n",
      "14/14 [==============================] - 0s 2ms/step - loss: 57628.0078 - mean_absolute_error: 57628.0078\n",
      "Epoch 27/100\n",
      "14/14 [==============================] - 0s 2ms/step - loss: 57345.2578 - mean_absolute_error: 57345.2578\n",
      "Epoch 28/100\n",
      "14/14 [==============================] - 0s 2ms/step - loss: 57042.8438 - mean_absolute_error: 57042.8438\n",
      "Epoch 29/100\n",
      "14/14 [==============================] - 0s 2ms/step - loss: 56686.0117 - mean_absolute_error: 56686.0117\n",
      "Epoch 30/100\n",
      "14/14 [==============================] - 0s 2ms/step - loss: 56274.8125 - mean_absolute_error: 56274.8125\n",
      "Epoch 31/100\n",
      "14/14 [==============================] - 0s 2ms/step - loss: 55799.1250 - mean_absolute_error: 55799.1250\n",
      "Epoch 32/100\n",
      "14/14 [==============================] - 0s 2ms/step - loss: 55267.3125 - mean_absolute_error: 55267.3125\n",
      "Epoch 33/100\n",
      "14/14 [==============================] - 0s 2ms/step - loss: 54656.6328 - mean_absolute_error: 54656.6328\n",
      "Epoch 34/100\n",
      "14/14 [==============================] - 0s 2ms/step - loss: 53982.7344 - mean_absolute_error: 53982.7344\n",
      "Epoch 35/100\n",
      "14/14 [==============================] - 0s 2ms/step - loss: 53236.3438 - mean_absolute_error: 53236.3438\n",
      "Epoch 36/100\n",
      "14/14 [==============================] - 0s 2ms/step - loss: 52398.9062 - mean_absolute_error: 52398.9062\n",
      "Epoch 37/100\n",
      "14/14 [==============================] - 0s 2ms/step - loss: 51441.5742 - mean_absolute_error: 51441.5742\n",
      "Epoch 38/100\n",
      "14/14 [==============================] - 0s 2ms/step - loss: 50480.5859 - mean_absolute_error: 50480.5859\n",
      "Epoch 39/100\n",
      "14/14 [==============================] - 0s 2ms/step - loss: 49247.8984 - mean_absolute_error: 49247.8984\n",
      "Epoch 40/100\n",
      "14/14 [==============================] - 0s 2ms/step - loss: 48079.9766 - mean_absolute_error: 48079.9766\n",
      "Epoch 41/100\n",
      "14/14 [==============================] - 0s 2ms/step - loss: 46666.6211 - mean_absolute_error: 46666.6211\n",
      "Epoch 42/100\n",
      "14/14 [==============================] - 0s 2ms/step - loss: 45148.5078 - mean_absolute_error: 45148.5078\n",
      "Epoch 43/100\n",
      "14/14 [==============================] - 0s 2ms/step - loss: 43448.6758 - mean_absolute_error: 43448.6758\n",
      "Epoch 44/100\n",
      "14/14 [==============================] - 0s 2ms/step - loss: 41681.1367 - mean_absolute_error: 41681.1367\n",
      "Epoch 45/100\n",
      "14/14 [==============================] - 0s 2ms/step - loss: 39682.7617 - mean_absolute_error: 39682.7617\n",
      "Epoch 46/100\n",
      "14/14 [==============================] - 0s 2ms/step - loss: 37424.8320 - mean_absolute_error: 37424.8320\n",
      "Epoch 47/100\n",
      "14/14 [==============================] - 0s 2ms/step - loss: 34983.1484 - mean_absolute_error: 34983.1484\n",
      "Epoch 48/100\n",
      "14/14 [==============================] - 0s 2ms/step - loss: 32434.3438 - mean_absolute_error: 32434.3438\n",
      "Epoch 49/100\n",
      "14/14 [==============================] - 0s 2ms/step - loss: 29464.4727 - mean_absolute_error: 29464.4727\n",
      "Epoch 50/100\n",
      "14/14 [==============================] - 0s 2ms/step - loss: 26919.7109 - mean_absolute_error: 26919.7109\n",
      "Epoch 51/100\n",
      "14/14 [==============================] - 0s 2ms/step - loss: 26062.7793 - mean_absolute_error: 26062.7793\n",
      "Epoch 52/100\n",
      "14/14 [==============================] - 0s 2ms/step - loss: 26059.9492 - mean_absolute_error: 26059.9492\n",
      "Epoch 53/100\n",
      "14/14 [==============================] - 0s 2ms/step - loss: 26063.8965 - mean_absolute_error: 26063.8965\n",
      "Epoch 54/100\n",
      "14/14 [==============================] - 0s 2ms/step - loss: 26044.2578 - mean_absolute_error: 26044.2578\n",
      "Epoch 55/100\n",
      "14/14 [==============================] - 0s 2ms/step - loss: 26047.5820 - mean_absolute_error: 26047.5820\n",
      "Epoch 56/100\n",
      "14/14 [==============================] - 0s 2ms/step - loss: 26036.1289 - mean_absolute_error: 26036.1289\n",
      "Epoch 57/100\n",
      "14/14 [==============================] - 0s 2ms/step - loss: 26041.4258 - mean_absolute_error: 26041.4258\n",
      "Epoch 58/100\n",
      "14/14 [==============================] - 0s 2ms/step - loss: 26027.5449 - mean_absolute_error: 26027.5430\n",
      "Epoch 59/100\n",
      "14/14 [==============================] - 0s 2ms/step - loss: 26021.4902 - mean_absolute_error: 26021.4902\n",
      "Epoch 60/100\n",
      "14/14 [==============================] - 0s 2ms/step - loss: 26020.2070 - mean_absolute_error: 26020.2070\n",
      "Epoch 61/100\n",
      "14/14 [==============================] - 0s 2ms/step - loss: 26026.0742 - mean_absolute_error: 26026.0742\n",
      "Epoch 62/100\n",
      "14/14 [==============================] - 0s 2ms/step - loss: 26014.2051 - mean_absolute_error: 26014.2051\n",
      "Epoch 63/100\n",
      "14/14 [==============================] - 0s 2ms/step - loss: 26010.8320 - mean_absolute_error: 26010.8320\n",
      "Epoch 64/100\n",
      "14/14 [==============================] - 0s 2ms/step - loss: 26004.2324 - mean_absolute_error: 26004.2324\n",
      "Epoch 65/100\n",
      "14/14 [==============================] - 0s 2ms/step - loss: 25999.8555 - mean_absolute_error: 25999.8555\n",
      "Epoch 66/100\n",
      "14/14 [==============================] - 0s 2ms/step - loss: 26002.8906 - mean_absolute_error: 26002.8906\n",
      "Epoch 67/100\n",
      "14/14 [==============================] - 0s 2ms/step - loss: 26027.0293 - mean_absolute_error: 26027.0293\n",
      "Epoch 68/100\n",
      "14/14 [==============================] - 0s 2ms/step - loss: 25995.3008 - mean_absolute_error: 25995.3008\n",
      "Epoch 69/100\n"
     ]
    },
    {
     "name": "stdout",
     "output_type": "stream",
     "text": [
      "14/14 [==============================] - 0s 1ms/step - loss: 25993.2793 - mean_absolute_error: 25993.2793\n",
      "Epoch 70/100\n",
      "14/14 [==============================] - 0s 2ms/step - loss: 25985.7441 - mean_absolute_error: 25985.7441\n",
      "Epoch 71/100\n",
      "14/14 [==============================] - 0s 2ms/step - loss: 25995.0957 - mean_absolute_error: 25995.0957\n",
      "Epoch 72/100\n",
      "14/14 [==============================] - 0s 2ms/step - loss: 25980.9199 - mean_absolute_error: 25980.9199\n",
      "Epoch 73/100\n",
      "14/14 [==============================] - 0s 2ms/step - loss: 25976.6816 - mean_absolute_error: 25976.6816\n",
      "Epoch 74/100\n",
      "14/14 [==============================] - 0s 2ms/step - loss: 25974.9902 - mean_absolute_error: 25974.9902\n",
      "Epoch 75/100\n",
      "14/14 [==============================] - 0s 2ms/step - loss: 25979.2051 - mean_absolute_error: 25979.2051\n",
      "Epoch 76/100\n",
      "14/14 [==============================] - 0s 2ms/step - loss: 25965.7109 - mean_absolute_error: 25965.7148\n",
      "Epoch 77/100\n",
      "14/14 [==============================] - 0s 2ms/step - loss: 25969.1152 - mean_absolute_error: 25969.1152\n",
      "Epoch 78/100\n",
      "14/14 [==============================] - 0s 2ms/step - loss: 25964.9355 - mean_absolute_error: 25964.9355\n",
      "Epoch 79/100\n",
      "14/14 [==============================] - 0s 2ms/step - loss: 25961.6348 - mean_absolute_error: 25961.6348\n",
      "Epoch 80/100\n",
      "14/14 [==============================] - 0s 2ms/step - loss: 25955.9141 - mean_absolute_error: 25955.9141\n",
      "Epoch 81/100\n",
      "14/14 [==============================] - 0s 2ms/step - loss: 25970.6211 - mean_absolute_error: 25970.6211\n",
      "Epoch 82/100\n",
      "14/14 [==============================] - 0s 2ms/step - loss: 25950.6855 - mean_absolute_error: 25950.6855\n",
      "Epoch 83/100\n",
      "14/14 [==============================] - 0s 2ms/step - loss: 25960.4766 - mean_absolute_error: 25960.4766\n",
      "Epoch 84/100\n",
      "14/14 [==============================] - 0s 2ms/step - loss: 25939.8789 - mean_absolute_error: 25939.8789\n",
      "Epoch 85/100\n",
      "14/14 [==============================] - 0s 2ms/step - loss: 25943.2578 - mean_absolute_error: 25943.2578\n",
      "Epoch 86/100\n",
      "14/14 [==============================] - 0s 2ms/step - loss: 25938.9160 - mean_absolute_error: 25938.9160\n",
      "Epoch 87/100\n",
      "14/14 [==============================] - 0s 2ms/step - loss: 25951.3848 - mean_absolute_error: 25951.3867\n",
      "Epoch 88/100\n",
      "14/14 [==============================] - 0s 2ms/step - loss: 25938.8848 - mean_absolute_error: 25938.8848\n",
      "Epoch 89/100\n",
      "14/14 [==============================] - 0s 2ms/step - loss: 25916.5723 - mean_absolute_error: 25916.5723\n",
      "Epoch 90/100\n",
      "14/14 [==============================] - 0s 2ms/step - loss: 25918.1055 - mean_absolute_error: 25918.1055\n",
      "Epoch 91/100\n",
      "14/14 [==============================] - 0s 2ms/step - loss: 25920.9102 - mean_absolute_error: 25920.9102\n",
      "Epoch 92/100\n",
      "14/14 [==============================] - 0s 2ms/step - loss: 25919.2559 - mean_absolute_error: 25919.2559\n",
      "Epoch 93/100\n",
      "14/14 [==============================] - 0s 2ms/step - loss: 25906.5820 - mean_absolute_error: 25906.5820\n",
      "Epoch 94/100\n",
      "14/14 [==============================] - 0s 2ms/step - loss: 25907.1934 - mean_absolute_error: 25907.1934\n",
      "Epoch 95/100\n",
      "14/14 [==============================] - 0s 2ms/step - loss: 25908.9668 - mean_absolute_error: 25908.9668\n",
      "Epoch 96/100\n",
      "14/14 [==============================] - 0s 2ms/step - loss: 25908.5840 - mean_absolute_error: 25908.5840\n",
      "Epoch 97/100\n",
      "14/14 [==============================] - 0s 2ms/step - loss: 25910.4062 - mean_absolute_error: 25910.4062\n",
      "Epoch 98/100\n",
      "14/14 [==============================] - 0s 2ms/step - loss: 25905.9512 - mean_absolute_error: 25905.9512\n",
      "Epoch 99/100\n",
      "14/14 [==============================] - 0s 2ms/step - loss: 25893.6699 - mean_absolute_error: 25893.6699\n",
      "Epoch 100/100\n",
      "14/14 [==============================] - 0s 2ms/step - loss: 25892.4570 - mean_absolute_error: 25892.4570\n"
     ]
    }
   ],
   "source": [
    "history = model.fit(X_train, y_train, epochs=100, batch_size=10)"
   ]
  },
  {
   "cell_type": "code",
   "execution_count": 8,
   "id": "a7d5b4e2",
   "metadata": {},
   "outputs": [],
   "source": [
    "Y_hat = model.predict(X)"
   ]
  },
  {
   "cell_type": "code",
   "execution_count": 9,
   "id": "87d98f50",
   "metadata": {
    "scrolled": false
   },
   "outputs": [
    {
     "data": {
      "image/png": "[encoded data removed]",
      "text/plain": [
       "<Figure size 640x480 with 1 Axes>"
      ]
     },
     "metadata": {},
     "output_type": "display_data"
    }
   ],
   "source": [
    "plt.scatter(X, Y)\n",
    "plt.scatter(X_test, y_test)\n",
    "plt.show()"
   ]
  },
  {
   "cell_type": "code",
   "execution_count": 10,
   "id": "cbe01048",
   "metadata": {},
   "outputs": [
    {
     "data": {
      "text/plain": [
       "array([[ 5926.748],\n",
       "       [ 8688.265],\n",
       "       [11448.967],\n",
       "       [14214.928],\n",
       "       [16974.254],\n",
       "       [19729.637],\n",
       "       [22499.88 ],\n",
       "       [25250.936],\n",
       "       [28025.826],\n",
       "       [30785.082]], dtype=float32)"
      ]
     },
     "execution_count": 10,
     "metadata": {},
     "output_type": "execute_result"
    }
   ],
   "source": [
    "model.predict([1,2,3,4,5,6,7,8,9,10])"
   ]
  }
 ],
 "metadata": {
  "kernelspec": {
   "display_name": "Python 3 (ipykernel)",
   "language": "python",
   "name": "python3"
  },
  "language_info": {
   "codemirror_mode": {
    "name": "ipython",
    "version": 3
   },
   "file_extension": ".py",
   "mimetype": "text/x-python",
   "name": "python",
   "nbconvert_exporter": "python",
   "pygments_lexer": "ipython3",
   "version": "3.9.15"
  }
 },
 "nbformat": 4,
 "nbformat_minor": 5
}
